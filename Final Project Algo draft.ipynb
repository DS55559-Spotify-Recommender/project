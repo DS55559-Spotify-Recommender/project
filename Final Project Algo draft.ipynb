{
 "cells": [
  {
   "cell_type": "code",
   "execution_count": null,
   "metadata": {},
   "outputs": [],
   "source": [
    "# Define a node class representing artists that contains artist metadata, a collection of similar artists\n",
    "# possibly a collection of other artists/nodes that they have shared bills with\n",
    "\n",
    "# Define an edge class with a weight, connected nodes, direction\n",
    "\n",
    "# Import user's listened artists and convert to node objects with attributes\n",
    "# If the listened artists are within one another's Spotify similar artists, establish an edge between them\n",
    "# with a default weight\n",
    "\n",
    "# For each artist node, do a lookup for the other artists in the 'similar artist' collection from Spotify, \n",
    "# concert bill collection\n",
    "# \n",
    "# Results of lookup should be the attributes needed to initialize them as artist nodes\n",
    "# \n",
    "# Initialize an edge with a weight; a default weight for appearing in similiar artists, a default weight for \n",
    "# appearing on a shared bill (or proportional to the number of shared bills),\n",
    "# and those weights (summed? multiplied?) if they appear in tandem\n",
    "#\n",
    "# Possibly repeat this iterably for a hyperparameter M number of times\n",
    "# \n",
    "# When we have our graph, do a traversal with a minimum number of nodes, and that maximizes edge weight\n",
    "# Alternatively, (0,1) normalize the edge weights, approach them as probabilities of liking artist."
   ]
  },
  {
   "cell_type": "code",
   "execution_count": null,
   "metadata": {},
   "outputs": [],
   "source": [
    "# a1.genres = ['rock', 'southern rock', 'classic rock']\n",
    "# a2.genres = ['rock', 'hard rock', 'heavy blues']\n",
    "for genre in a1.genres:\n",
    "    if genre in a2.genres:\n",
    "        a1.edge(a2).grow_weight(0.1)"
   ]
  }
 ],
 "metadata": {
  "kernelspec": {
   "display_name": "Python 3",
   "language": "python",
   "name": "python3"
  },
  "language_info": {
   "codemirror_mode": {
    "name": "ipython",
    "version": 3
   },
   "file_extension": ".py",
   "mimetype": "text/x-python",
   "name": "python",
   "nbconvert_exporter": "python",
   "pygments_lexer": "ipython3",
   "version": "3.7.4"
  }
 },
 "nbformat": 4,
 "nbformat_minor": 2
}
